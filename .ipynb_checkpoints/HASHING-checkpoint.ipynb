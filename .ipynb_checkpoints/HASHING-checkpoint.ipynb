{
 "cells": [
  {
   "cell_type": "markdown",
   "metadata": {},
   "source": [
    "# HASHING"
   ]
  },
  {
   "cell_type": "code",
   "execution_count": 1,
   "metadata": {},
   "outputs": [],
   "source": [
    "class _Node:\n",
    "    __slots__ = '_element','_next'    # Memory Allocation\n",
    "    def __init__(self,element,next):\n",
    "        self._element = element\n",
    "        self._next = next\n",
    "        \n",
    "class LinkedList:\n",
    "    def __init__(self): # constructor\n",
    "        self._head = None\n",
    "        self._tail = None\n",
    "        self._size = 0\n",
    "        \n",
    "    def __len__(self): # default super method which denotes the functionality of len function\n",
    "        return self._size\n",
    "    \n",
    "    def isempty(self):\n",
    "        return self._size == 0\n",
    "   \n",
    "    def search(self, key):\n",
    "        p = self._head\n",
    "        index = 0\n",
    "        \n",
    "        while p:\n",
    "            if p._element == key:\n",
    "                return index\n",
    "            p = p._next\n",
    "            index += 1\n",
    "        return 'element not found'    \n",
    "    \n",
    "    def insertsorted(self, e):\n",
    "        newest = _Node(e, None)\n",
    "        if self.isempty():\n",
    "            self._head = newest\n",
    "        else:\n",
    "            p = self._head\n",
    "            q = None\n",
    "            while p and p._element < e:\n",
    "                q = p\n",
    "                p = p._next\n",
    "            if p == self._head:\n",
    "                newest._next = self._head\n",
    "                self._head = newest\n",
    "            else:\n",
    "                newest._next = q._next\n",
    "                q._next = newest\n",
    "        self._size += 1\n",
    "\n"
   ]
  },
  {
   "cell_type": "code",
   "execution_count": 2,
   "metadata": {},
   "outputs": [],
   "source": [
    "class HashChain:\n",
    "    def __init__(self):\n",
    "        self.hashtable_size = 10\n",
    "        self.hashtable = [0] * self.hashtable_size\n",
    "        for i in range(self.hashtable_size):\n",
    "            self.hashtable[i] = LinkedList()\n",
    "\n",
    "    def hashcode(self, key):\n",
    "        return key % self.hashtable_size\n",
    "\n",
    "    def insert(self, element):\n",
    "        i = self.hashcode(element)\n",
    "        self.hashtable[i].insertsorted(element)\n",
    "\n",
    "    def search(self, key):\n",
    "        i = self.hashcode(key)\n",
    "        return self.hashtable[i].search(key) != -1\n",
    "\n",
    "    def display(self):\n",
    "        for i in range(self.hashtable_size):\n",
    "            print('[',i,']',end=' ')\n",
    "            self.hashtable[i].display()\n",
    "        print()\n"
   ]
  },
  {
   "cell_type": "code",
   "execution_count": 3,
   "metadata": {},
   "outputs": [
    {
     "name": "stdout",
     "output_type": "stream",
     "text": [
      "[ 0 ] \n",
      "[ 1 ] \n",
      "[ 2 ] 92 --> \n",
      "[ 3 ] \n",
      "[ 4 ] 34 --> 54 --> 64 --> \n",
      "[ 5 ] \n",
      "[ 6 ] 86 --> \n",
      "[ 7 ] \n",
      "[ 8 ] 28 --> 78 --> \n",
      "[ 9 ] \n",
      "\n",
      "Result: True\n"
     ]
    }
   ],
   "source": [
    "H = HashChain()\n",
    "H.insert(54)\n",
    "H.insert(78)\n",
    "H.insert(64)\n",
    "H.insert(92)\n",
    "H.insert(34)\n",
    "H.insert(86)\n",
    "H.insert(28)\n",
    "H.display()\n",
    "print('Result:',H.search(74))"
   ]
  },
  {
   "cell_type": "code",
   "execution_count": null,
   "metadata": {},
   "outputs": [],
   "source": []
  }
 ],
 "metadata": {
  "kernelspec": {
   "display_name": "Python 3",
   "language": "python",
   "name": "python3"
  },
  "language_info": {
   "codemirror_mode": {
    "name": "ipython",
    "version": 3
   },
   "file_extension": ".py",
   "mimetype": "text/x-python",
   "name": "python",
   "nbconvert_exporter": "python",
   "pygments_lexer": "ipython3",
   "version": "3.8.5"
  }
 },
 "nbformat": 4,
 "nbformat_minor": 4
}
