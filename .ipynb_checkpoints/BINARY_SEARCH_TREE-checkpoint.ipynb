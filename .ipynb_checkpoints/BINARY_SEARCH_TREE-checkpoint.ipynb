{
 "cells": [
  {
   "cell_type": "markdown",
   "metadata": {},
   "source": [
    "# BINRAY_SEARCH_TREE"
   ]
  },
  {
   "cell_type": "markdown",
   "metadata": {},
   "source": [
    "#### 1. Smaller elements are at left\n",
    "#### 2. Larger elements are at the right\n",
    "#### 3. should not have any duplicate elements or nodes\n",
    "#### 4. Performing inorder traversal will give a sorted list"
   ]
  },
  {
   "cell_type": "code",
   "execution_count": 6,
   "metadata": {},
   "outputs": [],
   "source": [
    "class _Node:\n",
    "    __slots__ = '_element', '_left', '_right'\n",
    "    \n",
    "    def __init__(self, element, left=None, right=None):\n",
    "        self._element = element\n",
    "        self._left = left\n",
    "        self._right = right"
   ]
  },
  {
   "cell_type": "code",
   "execution_count": 7,
   "metadata": {},
   "outputs": [],
   "source": [
    "class BinarySearchTree:\n",
    "    def __init__(self):\n",
    "        self._root = None\n",
    "\n",
    "# ITERATIVE FUNCTIONS\n",
    "\n",
    "    def insert(self,troot,e):\n",
    "        temp = None\n",
    "        while troot:\n",
    "            temp = troot\n",
    "            if e == troot._element:\n",
    "                return\n",
    "            elif e < troot._element:\n",
    "                troot = troot._left\n",
    "            elif e > troot._element:\n",
    "                troot = troot._right\n",
    "        n = _Node(e)\n",
    "        if self._root:\n",
    "            if e < temp._element:\n",
    "                temp._left = n\n",
    "            else:\n",
    "                temp._right = n\n",
    "        else:\n",
    "            self._root = n\n",
    "            \n",
    "    def search(self,key):\n",
    "        troot = self._root\n",
    "        while troot:\n",
    "            if key == troot._element:\n",
    "                return True\n",
    "            elif key < troot._element:\n",
    "                troot = troot._left\n",
    "            elif key > troot._element:\n",
    "                troot = troot._right\n",
    "        return False\n",
    "        \n",
    "# RECURSIVE FUNCTIONS\n",
    "\n",
    "    def rinsert(self,troot,e):\n",
    "        if troot:\n",
    "            if e < troot._element:\n",
    "                troot._left = self.rinsert(troot._left,e)\n",
    "            elif e > troot._element:\n",
    "                troot._right = self.rinsert(troot._right,e)\n",
    "        else:\n",
    "            n = _Node(e)\n",
    "            troot = n\n",
    "        return troot\n",
    "    \n",
    "    \n",
    "        \n",
    "    def inorder(self,troot):\n",
    "        if troot:\n",
    "            self.inorder(troot._left)\n",
    "            print(troot._element,end=' ')\n",
    "            self.inorder(troot._right)"
   ]
  },
  {
   "cell_type": "code",
   "execution_count": 12,
   "metadata": {},
   "outputs": [
    {
     "name": "stdout",
     "output_type": "stream",
     "text": [
      "Inorder Traversal\n",
      "10 30 40 50 60 80 90 \n",
      "True\n"
     ]
    }
   ],
   "source": [
    "B = BinarySearchTree()\n",
    "B._root= B.rinsert(B._root,50)\n",
    "B.rinsert(B._root,30)\n",
    "B.rinsert(B._root,80)\n",
    "B.rinsert(B._root,10)\n",
    "B.rinsert(B._root,40)\n",
    "B.rinsert(B._root,60)\n",
    "B.rinsert(B._root,90)\n",
    "print('Inorder Traversal')\n",
    "B.inorder(B._root)\n",
    "print()\n",
    "print(B.search(50))"
   ]
  },
  {
   "cell_type": "code",
   "execution_count": 49,
   "metadata": {},
   "outputs": [],
   "source": []
  },
  {
   "cell_type": "code",
   "execution_count": null,
   "metadata": {},
   "outputs": [],
   "source": []
  }
 ],
 "metadata": {
  "kernelspec": {
   "display_name": "Python 3",
   "language": "python",
   "name": "python3"
  },
  "language_info": {
   "codemirror_mode": {
    "name": "ipython",
    "version": 3
   },
   "file_extension": ".py",
   "mimetype": "text/x-python",
   "name": "python",
   "nbconvert_exporter": "python",
   "pygments_lexer": "ipython3",
   "version": "3.8.5"
  }
 },
 "nbformat": 4,
 "nbformat_minor": 4
}
