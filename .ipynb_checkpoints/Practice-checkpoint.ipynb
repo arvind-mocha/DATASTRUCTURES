{
 "cells": [
  {
   "cell_type": "code",
   "execution_count": 7,
   "metadata": {},
   "outputs": [],
   "source": [
    "class _Node:\n",
    "    __slots__ = '_element','_next'    # Memory Allocation\n",
    "    def __init__(self,element,next):\n",
    "        self._element = element\n",
    "        self._next = next\n",
    "        \n",
    "class LinkedList:\n",
    "    def __init__(self): # constructor\n",
    "        self._head = None\n",
    "        self._tail = None\n",
    "        self._size = 0\n",
    "        \n",
    "    def __len__(self): # default super method which denotes the functionality of len function\n",
    "        return self._size\n",
    "    \n",
    "    def isempty(self):\n",
    "        return self._size == 0\n",
    "   \n",
    "    def search(self, key):\n",
    "        p = self._head\n",
    "        index = 0\n",
    "        \n",
    "        while p:\n",
    "            if p._element == key:\n",
    "                return index\n",
    "            p = p._next\n",
    "            index += 1\n",
    "        return 'element not found'    \n",
    "    \n",
    "    def display(self):\n",
    "        p = self._head\n",
    "        while p:\n",
    "            print(p._element,end=' --> ')\n",
    "            p = p._next\n",
    "        print()\n",
    "        \n",
    "    def insert(self,e):\n",
    "        newest = _Node(e,None)\n",
    "        \n",
    "        if self.isempty():\n",
    "            self._head = newes\n",
    "            return\n",
    "            \n",
    "        while e < p._element:\n",
    "            p = p._next\n",
    "            print(p._element)"
   ]
  },
  {
   "cell_type": "code",
   "execution_count": 8,
   "metadata": {},
   "outputs": [],
   "source": [
    "S = LinkedList()\n",
    "S.insert(25)\n",
    "S.insert(20)\n",
    "S.insert(10)\n",
    "S.insert(40)\n",
    "S.insert(2)\n",
    "S.insert(212)\n",
    "S.insert(245)\n",
    "S.insert(266)\n",
    "S.insert(284)"
   ]
  },
  {
   "cell_type": "code",
   "execution_count": null,
   "metadata": {},
   "outputs": [],
   "source": []
  }
 ],
 "metadata": {
  "kernelspec": {
   "display_name": "Python 3",
   "language": "python",
   "name": "python3"
  },
  "language_info": {
   "codemirror_mode": {
    "name": "ipython",
    "version": 3
   },
   "file_extension": ".py",
   "mimetype": "text/x-python",
   "name": "python",
   "nbconvert_exporter": "python",
   "pygments_lexer": "ipython3",
   "version": "3.8.5"
  }
 },
 "nbformat": 4,
 "nbformat_minor": 4
}
