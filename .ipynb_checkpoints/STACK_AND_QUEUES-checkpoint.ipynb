{
 "cells": [
  {
   "cell_type": "markdown",
   "metadata": {},
   "source": [
    "# STACK USING ARRAY"
   ]
  },
  {
   "cell_type": "markdown",
   "metadata": {},
   "source": [
    "#### 1. It works on the principle of Last In First Out ( LIFO )"
   ]
  },
  {
   "cell_type": "code",
   "execution_count": 42,
   "metadata": {},
   "outputs": [],
   "source": [
    "class StackArrays:\n",
    "    def __init__(self):\n",
    "        self._data = []\n",
    "        \n",
    "    def __len__(self):\n",
    "        return len(self._data)\n",
    "    \n",
    "    def isempty(self):\n",
    "        return len(self._data) == 0\n",
    "    \n",
    "    def push(self,e):\n",
    "        self._data.append(e)\n",
    "        \n",
    "        \n",
    "    def pop(self):\n",
    "        if self.isempty():\n",
    "            print('Stack is empty')\n",
    "            return \n",
    "        return self._data.pop()\n",
    "        \n",
    "    def top(self):\n",
    "        if self.isempty():\n",
    "            print('Stack is Empty')\n",
    "            return\n",
    "        return self._data[-1]"
   ]
  },
  {
   "cell_type": "code",
   "execution_count": 45,
   "metadata": {},
   "outputs": [
    {
     "name": "stdout",
     "output_type": "stream",
     "text": [
      "[5, 4, 2, 3]\n",
      "Last Deleted Element: 3\n",
      "[5, 4, 2]\n",
      "Length: 3\n",
      "Last Element: 2\n"
     ]
    }
   ],
   "source": [
    "S = StackArrays()\n",
    "S.push(5)\n",
    "S.push(4)\n",
    "S.push(2)\n",
    "S.push(3)\n",
    "print(S._data)\n",
    "print(\"Last Deleted Element:\",S.pop())\n",
    "print(S._data)\n",
    "print('Length:',len(S))\n",
    "print('Last Element:',S.top())"
   ]
  },
  {
   "cell_type": "markdown",
   "metadata": {},
   "source": [
    "# QUEUES"
   ]
  },
  {
   "cell_type": "markdown",
   "metadata": {},
   "source": [
    "#### 1. It works on the principle of First In First Out ( FIFO )"
   ]
  },
  {
   "cell_type": "code",
   "execution_count": 33,
   "metadata": {},
   "outputs": [],
   "source": [
    "class QueueArrays:\n",
    "    def __init__(self):\n",
    "        self._data = []\n",
    "        \n",
    "    def __len__(self):\n",
    "        return len(self._data)\n",
    "    \n",
    "    def isempty(self):\n",
    "        return len(self._data) == 0\n",
    "    \n",
    "    def enqueue(self,e):\n",
    "        self._data.append(e)\n",
    "        \n",
    "        \n",
    "    def dequeue(self):\n",
    "        if self.isempty():\n",
    "            print('Queue is empty')\n",
    "            return \n",
    "        return self._data.pop(0)\n",
    "        \n",
    "    def top(self):\n",
    "        if self.isempty():\n",
    "            print('Queue is Empty')\n",
    "            return\n",
    "        return self._data[-1]"
   ]
  },
  {
   "cell_type": "code",
   "execution_count": 44,
   "metadata": {},
   "outputs": [
    {
     "name": "stdout",
     "output_type": "stream",
     "text": [
      "[5, 4, 2, 3]\n",
      "First Deleted Element : 5\n",
      "[4, 2, 3]\n",
      "Length: 3\n",
      "Last Element: 3\n"
     ]
    }
   ],
   "source": [
    "Q = QueueArrays()\n",
    "Q.enqueue(5)\n",
    "Q.enqueue(4)\n",
    "Q.enqueue(2)\n",
    "Q.enqueue(3)\n",
    "print(Q._data)\n",
    "print(\"First Deleted Element :\",Q.dequeue())\n",
    "print(Q._data)\n",
    "print('Length:',len(Q))\n",
    "print('Last Element:',Q.top())"
   ]
  },
  {
   "cell_type": "markdown",
   "metadata": {},
   "source": [
    "## Check Linked List File To Find Implementaion of Stack and QUEUES Using Linked List "
   ]
  }
 ],
 "metadata": {
  "kernelspec": {
   "display_name": "Python 3",
   "language": "python",
   "name": "python3"
  },
  "language_info": {
   "codemirror_mode": {
    "name": "ipython",
    "version": 3
   },
   "file_extension": ".py",
   "mimetype": "text/x-python",
   "name": "python",
   "nbconvert_exporter": "python",
   "pygments_lexer": "ipython3",
   "version": "3.8.5"
  }
 },
 "nbformat": 4,
 "nbformat_minor": 4
}
