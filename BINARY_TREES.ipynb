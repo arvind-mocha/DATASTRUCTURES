{
 "cells": [
  {
   "cell_type": "markdown",
   "metadata": {},
   "source": [
    "# TREE"
   ]
  },
  {
   "cell_type": "markdown",
   "metadata": {},
   "source": [
    "#### 1. Trees are collection of Nodes and Edges\n",
    "#### 2. First Node or the Node Without parents a called as Root Node\n",
    "#### 3. Nodes which belongs to the same parent at same level are called Sibling Nodes\n",
    "#### 4. Nodes Without children are called as External or Leaf Node\n",
    "#### 4. Nodes With children are called as internal or NON - Leaf Node\n",
    "#### 5. The Parent Child Relationship between each Nodes are called as Edges\n",
    "#### 6. Height of the Tree Starts from 0 which is from Root Node\n",
    "#### 7. Level of the Tree Starts from 1 which is from Root Node\n",
    "#### 8. If Height of the Tree is 0 and Level is 1 then the Tree Has only the Root Node\n",
    "#### 9 . Number of Child Nodes is the Degree of Parent Node. Leaf node as a degree of zero\n",
    "#### 10. Highest Degress is the Degree of the Tree"
   ]
  },
  {
   "cell_type": "markdown",
   "metadata": {},
   "source": [
    "# BINARY TREE"
   ]
  },
  {
   "cell_type": "markdown",
   "metadata": {},
   "source": [
    "## Properties :\n",
    "#### 1. Every Node Including Root Node Must have Only 2 or less than 2 child nodes\n",
    "#### 2. If Degree of the tree or degree of any parent Node is more than two Then It is not a binary tree\n",
    "#### 3. The Child Nodes are Labelled as Left And Right Node\n",
    "#### 4. Maximum number of nodes in a binary tree is (2^(h+1)) - 1. h is the height of the Tree"
   ]
  },
  {
   "cell_type": "markdown",
   "metadata": {},
   "source": [
    "# BINARY TREE USING ARRAY ( Not Reccomended )"
   ]
  },
  {
   "cell_type": "markdown",
   "metadata": {},
   "source": [
    "## Note :\n",
    "#### 1. Binary Tree Using Arrays Are not recomended Because Arrays are of Fixed Size So Lots of Memory is comsumed (Wasted)\n",
    "#### 2. Eg: If the left Most Parent is not having child but the Right Parent is having Child then the Left parent must be filled with empty memory so that the right parent could be inserted with child. Since Array are composed of indexes we can't directly insert element into index 3 without filling the index 0, 1, 2\n",
    "#### 3. So It is better to implement Binary Tree using Linked List Since the Momery is Dynamically allocated \n",
    "\n",
    "## Tree Traversing :\n",
    "\n",
    "#### 1. Parent Child Relationship formula => index of parent * 2 for left child, index of parent * 2 if left child + 1 for Right child\n",
    "#### 2. Child Parent Relationship formula =>  floor(index of parent / 2) for left child and right child\n",
    "#### 3. Types Of Tree Travesal\n",
    "#### 4. Preorder Traversal => ROOT - LEFT - RIGHT\n",
    "#### 5. Inorder Traversal => LEFT - ROOT - RIGHT\n",
    "#### 6. Postorder Traversal => LEFT - RIGHT - ROOT\n",
    "#### 7. Levelorder Traversal => Level 1 - Level 2 (Left To Right) - Level 3 (Left To Right)"
   ]
  },
  {
   "cell_type": "markdown",
   "metadata": {},
   "source": [
    "# Binary Tree Using Linked List"
   ]
  },
  {
   "cell_type": "code",
   "execution_count": 1,
   "metadata": {},
   "outputs": [],
   "source": [
    "from ipynb.fs.full.STACK_AND_QUEUES import QueuesLinked\n",
    "\n",
    "class _Node:\n",
    "    __slots__ = '_element', '_left', '_right'\n",
    "\n",
    "    def __init__(self, element, left=None, right=None):\n",
    "        self._element = element\n",
    "        self._left = left\n",
    "        self._right = right"
   ]
  },
  {
   "cell_type": "code",
   "execution_count": 20,
   "metadata": {},
   "outputs": [],
   "source": [
    "class BinaryTree:\n",
    "    def __init__(self):\n",
    "        self._root = None\n",
    "\n",
    "    def maketree(self, e, left, right):\n",
    "        self._root = _Node(e,left._root,right._root)\n",
    "\n",
    "    def inorder(self,troot):\n",
    "        if troot:\n",
    "            self.inorder(troot._left) # Treverse till the last left node\n",
    "            print(troot._element,end=' ') # Print from last left node\n",
    "            self.inorder(troot._right) # Trverse Till the last right Node\n",
    "\n",
    "    def preorder(self,troot):\n",
    "        if troot:\n",
    "            print(troot._element,end=' ')\n",
    "            self.preorder(troot._left)\n",
    "            self.preorder(troot._right)\n",
    "\n",
    "    def postorder(self,troot):\n",
    "        if troot:\n",
    "            self.postorder(troot._left)\n",
    "            self.postorder(troot._right)\n",
    "            print(troot._element, end=' ')\n",
    "\n",
    "    def levelorder(self):\n",
    "        Q = QueuesLinked()\n",
    "        t = self._root\n",
    "        print(t._element,end=' ')\n",
    "        Q.enqueue(t)\n",
    "        while not Q.isempty():\n",
    "            t = Q.dequeue()\n",
    "            if t._left:\n",
    "                print(t._left._element,end=' ')\n",
    "                Q.enqueue(t._left)\n",
    "            if t._right:\n",
    "                print(t._right._element,end=' ')\n",
    "                Q.enqueue(t._right)\n",
    "    \n",
    "    def count(self,troot):\n",
    "        if troot:\n",
    "            x = self.count(troot._left)\n",
    "            y = self.count(troot._right)\n",
    "            return x + y + 1\n",
    "        return 0\n",
    "    \n",
    "    def height(self,troot):\n",
    "        if troot:\n",
    "            x = self.height(troot._left)\n",
    "            y = self.height(troot._right)\n",
    "            if x > y:\n",
    "                return x + 1\n",
    "            else:  \n",
    "                return y + 1\n",
    "        return 0"
   ]
  },
  {
   "cell_type": "code",
   "execution_count": 21,
   "metadata": {},
   "outputs": [
    {
     "name": "stdout",
     "output_type": "stream",
     "text": [
      "Inorder Traversal\n",
      "40 20 60 \n",
      "Prerder Traversal\n",
      "20 40 60 \n",
      "Postorder Traversal\n",
      "40 60 20 \n",
      "Levelorder Traversal\n",
      "20 40 60 \n",
      "Number of Nodes\n",
      "3\n",
      "Height of The Tree\n",
      "0 0\n",
      "0 0\n",
      "1 1\n",
      "1\n"
     ]
    }
   ],
   "source": [
    "x = BinaryTree()\n",
    "y = BinaryTree()\n",
    "z = BinaryTree()\n",
    "a = BinaryTree()\n",
    "\n",
    "x.maketree(40,a,a)\n",
    "y.maketree(60,a,a)\n",
    "z.maketree(20,x,y)\n",
    "\n",
    "print('Inorder Traversal')\n",
    "z.inorder(z._root)\n",
    "print()\n",
    "print('Prerder Traversal')\n",
    "z.preorder(z._root)\n",
    "print()\n",
    "print('Postorder Traversal')\n",
    "z.postorder(z._root)\n",
    "print()\n",
    "print('Levelorder Traversal')\n",
    "z.levelorder()\n",
    "print()\n",
    "print('Number of Nodes')\n",
    "print(z.count(z._root))\n",
    "print('Height of The Tree')\n",
    "print(z.height(z._root)-1)"
   ]
  },
  {
   "cell_type": "code",
   "execution_count": 19,
   "metadata": {},
   "outputs": [
    {
     "name": "stdout",
     "output_type": "stream",
     "text": [
      "Inorder Traversal\n",
      "40 20 10 50 60 30 \n",
      "Preorder Traversal\n",
      "10 20 40 30 50 60 \n",
      "Postorder Traversal\n",
      "40 20 60 50 30 10 \n",
      "Levelorder Traversal\n",
      "10 20 30 40 50 60 \n",
      "Number of Nodes\n",
      "6\n",
      "Height of The Tree\n",
      "1 0\n",
      "2 0\n",
      "3\n"
     ]
    }
   ],
   "source": [
    "x = BinaryTree()\n",
    "y = BinaryTree()\n",
    "z = BinaryTree()\n",
    "r = BinaryTree()\n",
    "s = BinaryTree()\n",
    "t = BinaryTree()\n",
    "a = BinaryTree()\n",
    "x.maketree(40,a,a)\n",
    "y.maketree(60,a,a)\n",
    "z.maketree(20,x,a)\n",
    "r.maketree(50,a,y)\n",
    "s.maketree(30,r,a)\n",
    "t.maketree(10,z,s)\n",
    "print('Inorder Traversal')\n",
    "t.inorder(t._root)\n",
    "print()\n",
    "print('Preorder Traversal')\n",
    "t.preorder(t._root)\n",
    "print()\n",
    "print('Postorder Traversal')\n",
    "t.postorder(t._root)\n",
    "print()\n",
    "print('Levelorder Traversal')\n",
    "t.levelorder()\n",
    "print()\n",
    "print('Number of Nodes')\n",
    "print(t.count(t._root))\n",
    "print('Height of The Tree')\n",
    "print(t.height(t._root)-1)"
   ]
  },
  {
   "cell_type": "code",
   "execution_count": null,
   "metadata": {},
   "outputs": [],
   "source": []
  }
 ],
 "metadata": {
  "kernelspec": {
   "display_name": "Python 3",
   "language": "python",
   "name": "python3"
  },
  "language_info": {
   "codemirror_mode": {
    "name": "ipython",
    "version": 3
   },
   "file_extension": ".py",
   "mimetype": "text/x-python",
   "name": "python",
   "nbconvert_exporter": "python",
   "pygments_lexer": "ipython3",
   "version": "3.8.5"
  }
 },
 "nbformat": 4,
 "nbformat_minor": 4
}
