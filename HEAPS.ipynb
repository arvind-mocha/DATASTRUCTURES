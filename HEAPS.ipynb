{
 "cells": [
  {
   "cell_type": "markdown",
   "metadata": {},
   "source": [
    "# PRIORITY QUEUES AND HEAPS"
   ]
  },
  {
   "cell_type": "code",
   "execution_count": 1,
   "metadata": {},
   "outputs": [],
   "source": [
    "class Heap:\n",
    "    def __init__(self):\n",
    "        self._maxsize = 10\n",
    "        self._data = [-1] * self._maxsize\n",
    "        self._csize = 0\n",
    "\n",
    "    def __len__(self):\n",
    "        return len(self._data)\n",
    "\n",
    "    def isempty(self):\n",
    "        return len(self._data) == 0\n",
    "\n",
    "    def insert(self, e):\n",
    "        if self._csize == self._maxsize:\n",
    "            print('No Space in Heap')\n",
    "            return\n",
    "        self._csize = self._csize + 1\n",
    "        hi = self._csize\n",
    "        while hi > 1 and e > self._data[hi // 2]:\n",
    "            self._data[hi] = self._data[hi // 2]\n",
    "            hi = hi // 2\n",
    "        self._data[hi] = e\n",
    "\n",
    "    def max(self):\n",
    "        if self._csize == 0:\n",
    "            print('Heap is Empty')\n",
    "            return\n",
    "        return self._data[1]\n",
    "\n",
    "    def deletemax(self):\n",
    "        if self._csize == 0:\n",
    "            print('Heap is Empty')\n",
    "            return\n",
    "        e = self._data[1]\n",
    "        self._data[1] = self._data[self._csize]\n",
    "        self._data[self._csize] = -1\n",
    "        self._csize = self._csize - 1\n",
    "        i = 1\n",
    "        j = i * 2\n",
    "        while j <= self._csize:\n",
    "            if self._data[j] < self._data[j+1]:\n",
    "                j = j + 1\n",
    "            if self._data[i] < self._data[j]:\n",
    "                temp = self._data[i]\n",
    "                self._data[i] = self._data[j]\n",
    "                self._data[j] = temp\n",
    "                i = j\n",
    "                j = i * 2\n",
    "            else:\n",
    "                break\n",
    "        return e"
   ]
  },
  {
   "cell_type": "code",
   "execution_count": 4,
   "metadata": {},
   "outputs": [
    {
     "name": "stdout",
     "output_type": "stream",
     "text": [
      "[-1, 266, 245, 212, 25, 2, 10, 40, 20, -1]\n"
     ]
    }
   ],
   "source": [
    "S = Heap()\n",
    "S.insert(25)\n",
    "S.insert(20)\n",
    "S.insert(10)\n",
    "S.insert(40)\n",
    "S.insert(2)\n",
    "S.insert(212)\n",
    "S.insert(245)\n",
    "S.insert(266)\n",
    "S.insert(284)\n",
    "S.deletemax()\n",
    "print(S._data)"
   ]
  },
  {
   "cell_type": "markdown",
   "metadata": {},
   "source": [
    "# HEAP SORT"
   ]
  },
  {
   "cell_type": "code",
   "execution_count": 7,
   "metadata": {},
   "outputs": [],
   "source": [
    "def heapsort(A):\n",
    "    H = Heap()\n",
    "    n = len(A)\n",
    "    for i in range(n):\n",
    "        H.insert(A[i])\n",
    "    k = n-1\n",
    "    for i in range(H._csize):\n",
    "        A[k] = H.deletemax()\n",
    "        k = k - 1"
   ]
  },
  {
   "cell_type": "code",
   "execution_count": 8,
   "metadata": {},
   "outputs": [
    {
     "name": "stdout",
     "output_type": "stream",
     "text": [
      "Original Array: [63, 250, 835, 947, 651, 28]\n",
      "Sorted Array: [28, 63, 250, 651, 835, 947]\n"
     ]
    }
   ],
   "source": [
    "A = [63, 250, 835, 947, 651, 28]\n",
    "print('Original Array:',A)\n",
    "heapsort(A)\n",
    "print('Sorted Array:',A)"
   ]
  },
  {
   "cell_type": "code",
   "execution_count": null,
   "metadata": {},
   "outputs": [],
   "source": []
  }
 ],
 "metadata": {
  "kernelspec": {
   "display_name": "Python 3",
   "language": "python",
   "name": "python3"
  },
  "language_info": {
   "codemirror_mode": {
    "name": "ipython",
    "version": 3
   },
   "file_extension": ".py",
   "mimetype": "text/x-python",
   "name": "python",
   "nbconvert_exporter": "python",
   "pygments_lexer": "ipython3",
   "version": "3.8.5"
  }
 },
 "nbformat": 4,
 "nbformat_minor": 4
}
