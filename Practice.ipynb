{
 "cells": [
  {
   "cell_type": "code",
   "execution_count": 64,
   "metadata": {},
   "outputs": [],
   "source": [
    "class _Node:\n",
    "    __slots__ = '_element','_next'    # Memory Allocation\n",
    "    def __init__(self,element,next):\n",
    "        self._element = element\n",
    "        self._next = next\n",
    "        \n",
    "class LinkedList:\n",
    "    def __init__(self): # constructor\n",
    "        self._head = None\n",
    "        self._tail = None\n",
    "        self._size = 0\n",
    "        \n",
    "    def __len__(self): # default super method which denotes the functionality of len function\n",
    "        return self._size\n",
    "    \n",
    "    def isempty(self):\n",
    "        return self._size == 0\n",
    "   \n",
    "    def search(self, key):\n",
    "        p = self._head\n",
    "        index = 0\n",
    "        \n",
    "        while p:\n",
    "            if p._element == key:\n",
    "                return index\n",
    "            p = p._next\n",
    "            index += 1\n",
    "        return 'element not found'    \n",
    "    \n",
    "    def display(self):\n",
    "        p = self._head\n",
    "        while p:\n",
    "            print(p._element,end=' --> ')\n",
    "            p = p._next\n",
    "        print()\n",
    "    \n",
    "    def insertsorted(self, e):\n",
    "        newest = _Node(e, None)\n",
    "        if self.isempty():\n",
    "            self._head = newest\n",
    "        else:\n",
    "            p = self._head\n",
    "            q = None\n",
    "            while p and p._element < e:\n",
    "                q = p\n",
    "                p = p._next\n",
    "            if p == self._head:\n",
    "                newest._next = self._head\n",
    "                self._head = newest\n",
    "            else:\n",
    "                newest._next = q._next\n",
    "                q._next = newest\n",
    "        self._size += 1\n",
    "\n"
   ]
  },
  {
   "cell_type": "code",
   "execution_count": 65,
   "metadata": {},
   "outputs": [],
   "source": [
    "class Hash:\n",
    "    def __init__(self):\n",
    "        self.hashtable_size = 10\n",
    "        self.hashtable = [0] * self.hashtable_size\n",
    "        for i in range(self.hashtable_size):\n",
    "            self.hashtable[i] = LinkedList()\n",
    "        \n",
    "    def hashval(self,e):\n",
    "        return e % self.hashtable_size\n",
    "        \n",
    "    def hashmap(self,e):\n",
    "        i = self.hashval(e)\n",
    "        self.hashtable[i].insert(e)\n",
    "        \n",
    "    def search(self, key):\n",
    "        i = self.hashval(key)\n",
    "        return self.hashtable[i].search(key) != -1\n",
    "        \n",
    "    def display(self):\n",
    "        for i in range(self.hashtable_size):\n",
    "            print('[',i,']',end=' ')\n",
    "            self.hashtable[i].display()\n",
    "        print()\n",
    "        "
   ]
  },
  {
   "cell_type": "code",
   "execution_count": 66,
   "metadata": {},
   "outputs": [
    {
     "ename": "AttributeError",
     "evalue": "'LinkedList' object has no attribute 'insert'",
     "output_type": "error",
     "traceback": [
      "\u001b[1;31m---------------------------------------------------------------------------\u001b[0m",
      "\u001b[1;31mAttributeError\u001b[0m                            Traceback (most recent call last)",
      "\u001b[1;32m<ipython-input-66-bc683b23f559>\u001b[0m in \u001b[0;36m<module>\u001b[1;34m\u001b[0m\n\u001b[0;32m      1\u001b[0m \u001b[0mS\u001b[0m \u001b[1;33m=\u001b[0m \u001b[0mHash\u001b[0m\u001b[1;33m(\u001b[0m\u001b[1;33m)\u001b[0m\u001b[1;33m\u001b[0m\u001b[1;33m\u001b[0m\u001b[0m\n\u001b[0;32m      2\u001b[0m \u001b[1;33m\u001b[0m\u001b[0m\n\u001b[1;32m----> 3\u001b[1;33m \u001b[0mS\u001b[0m\u001b[1;33m.\u001b[0m\u001b[0mhashmap\u001b[0m\u001b[1;33m(\u001b[0m\u001b[1;36m22\u001b[0m\u001b[1;33m)\u001b[0m\u001b[1;33m\u001b[0m\u001b[1;33m\u001b[0m\u001b[0m\n\u001b[0m\u001b[0;32m      4\u001b[0m \u001b[0mS\u001b[0m\u001b[1;33m.\u001b[0m\u001b[0mhashmap\u001b[0m\u001b[1;33m(\u001b[0m\u001b[1;36m23\u001b[0m\u001b[1;33m)\u001b[0m\u001b[1;33m\u001b[0m\u001b[1;33m\u001b[0m\u001b[0m\n\u001b[0;32m      5\u001b[0m \u001b[0mS\u001b[0m\u001b[1;33m.\u001b[0m\u001b[0mhashmap\u001b[0m\u001b[1;33m(\u001b[0m\u001b[1;36m24\u001b[0m\u001b[1;33m)\u001b[0m\u001b[1;33m\u001b[0m\u001b[1;33m\u001b[0m\u001b[0m\n",
      "\u001b[1;32m<ipython-input-65-cb915e0f7f4f>\u001b[0m in \u001b[0;36mhashmap\u001b[1;34m(self, e)\u001b[0m\n\u001b[0;32m     11\u001b[0m     \u001b[1;32mdef\u001b[0m \u001b[0mhashmap\u001b[0m\u001b[1;33m(\u001b[0m\u001b[0mself\u001b[0m\u001b[1;33m,\u001b[0m\u001b[0me\u001b[0m\u001b[1;33m)\u001b[0m\u001b[1;33m:\u001b[0m\u001b[1;33m\u001b[0m\u001b[1;33m\u001b[0m\u001b[0m\n\u001b[0;32m     12\u001b[0m         \u001b[0mi\u001b[0m \u001b[1;33m=\u001b[0m \u001b[0mself\u001b[0m\u001b[1;33m.\u001b[0m\u001b[0mhashval\u001b[0m\u001b[1;33m(\u001b[0m\u001b[0me\u001b[0m\u001b[1;33m)\u001b[0m\u001b[1;33m\u001b[0m\u001b[1;33m\u001b[0m\u001b[0m\n\u001b[1;32m---> 13\u001b[1;33m         \u001b[0mself\u001b[0m\u001b[1;33m.\u001b[0m\u001b[0mhashtable\u001b[0m\u001b[1;33m[\u001b[0m\u001b[0mi\u001b[0m\u001b[1;33m]\u001b[0m\u001b[1;33m.\u001b[0m\u001b[0minsert\u001b[0m\u001b[1;33m(\u001b[0m\u001b[0me\u001b[0m\u001b[1;33m)\u001b[0m\u001b[1;33m\u001b[0m\u001b[1;33m\u001b[0m\u001b[0m\n\u001b[0m\u001b[0;32m     14\u001b[0m \u001b[1;33m\u001b[0m\u001b[0m\n\u001b[0;32m     15\u001b[0m     \u001b[1;32mdef\u001b[0m \u001b[0msearch\u001b[0m\u001b[1;33m(\u001b[0m\u001b[0mself\u001b[0m\u001b[1;33m,\u001b[0m \u001b[0mkey\u001b[0m\u001b[1;33m)\u001b[0m\u001b[1;33m:\u001b[0m\u001b[1;33m\u001b[0m\u001b[1;33m\u001b[0m\u001b[0m\n",
      "\u001b[1;31mAttributeError\u001b[0m: 'LinkedList' object has no attribute 'insert'"
     ]
    }
   ],
   "source": [
    "S = Hash()\n",
    "\n",
    "S.hashmap(22)\n",
    "S.hashmap(23)\n",
    "S.hashmap(24)\n",
    "S.hashmap(25)\n",
    "S.hashmap(26)\n",
    "S.hashmap(27)\n",
    "S.hashmap(28)\n",
    "S.hashmap(29)\n",
    "S.hashmap(30)\n",
    "S.hashmap(31)\n",
    "S.hashmap(32)\n",
    "S.hashmap(44)\n",
    "S.hashmap(54)\n",
    "\n",
    "S.search(23)"
   ]
  },
  {
   "cell_type": "code",
   "execution_count": null,
   "metadata": {},
   "outputs": [],
   "source": []
  },
  {
   "cell_type": "code",
   "execution_count": null,
   "metadata": {},
   "outputs": [],
   "source": []
  }
 ],
 "metadata": {
  "kernelspec": {
   "display_name": "Python 3",
   "language": "python",
   "name": "python3"
  },
  "language_info": {
   "codemirror_mode": {
    "name": "ipython",
    "version": 3
   },
   "file_extension": ".py",
   "mimetype": "text/x-python",
   "name": "python",
   "nbconvert_exporter": "python",
   "pygments_lexer": "ipython3",
   "version": "3.8.5"
  }
 },
 "nbformat": 4,
 "nbformat_minor": 4
}
