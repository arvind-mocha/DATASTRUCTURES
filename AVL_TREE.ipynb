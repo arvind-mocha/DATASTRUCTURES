{
 "cells": [
  {
   "cell_type": "markdown",
   "metadata": {},
   "source": [
    "# AVL TREE"
   ]
  },
  {
   "cell_type": "markdown",
   "metadata": {},
   "source": [
    "#### 1. AVL tree is as same as Binary Tree but all node must be balanced\n",
    "#### 2. Criteria if a Tree or Sub Tree is balanced is ( height of left SubTree - height of right Sub Tree ) must but -1 or 0 or 1 else the Tree is not a AVL Tree\n",
    "#### 3. If a tree is not balanced we can perform Rotations to make the tree balanced\n",
    "#### 4. There are Four types of Rotation LL, RR, LR and RL Rotations\n",
    "#### 5. Always only Three Nodes are compared for rotation"
   ]
  },
  {
   "cell_type": "code",
   "execution_count": 2,
   "metadata": {},
   "outputs": [],
   "source": [
    "class _Node:\n",
    "    __slots__ = '_element', '_left', '_right'\n",
    "    \n",
    "    def __init__(self, element, left=None, right=None):\n",
    "        self._element = element\n",
    "        self._left = left\n",
    "        self._right = right"
   ]
  },
  {
   "cell_type": "code",
   "execution_count": 39,
   "metadata": {},
   "outputs": [],
   "source": [
    "class BinarySearchTree:\n",
    "    def __init__(self):\n",
    "        self._root = None\n",
    "\n",
    "    def insert(self,troot,e):\n",
    "        temp = None\n",
    "        while troot:\n",
    "            temp = troot\n",
    "            if e == troot._element:\n",
    "                return\n",
    "            elif e < troot._element:\n",
    "                troot = troot._left\n",
    "            elif e > troot._element:\n",
    "                troot = troot._right\n",
    "        n = _Node(e)\n",
    "        if self._root:\n",
    "            if e < temp._element:\n",
    "                temp._left = n\n",
    "            else:\n",
    "                temp._right = n\n",
    "        else:\n",
    "            self._root = n\n",
    "        \n",
    "        self.isbalanced(self._root)\n",
    "                   \n",
    "    def delete(self, e):\n",
    "        dnode = self._root\n",
    "        pdnode = None\n",
    "        \n",
    "        while dnode and dnode._element != e:\n",
    "            pdnode = dnode\n",
    "            if e < dnode._element:\n",
    "                dnode = dnode._left\n",
    "            else:\n",
    "                dnode = dnode._right\n",
    "        \n",
    "        if not dnode:\n",
    "            print('Not Found')\n",
    "            return\n",
    "        \n",
    "        if dnode._left and dnode._right:\n",
    "            rnode = dnode._left\n",
    "            prnode = dnode\n",
    "            \n",
    "            while rnode._right:\n",
    "                prnode = rnode\n",
    "                rnode = rnode._right\n",
    "                \n",
    "            dnode._element = rnode._element\n",
    "            dnode = rnode\n",
    "            pdnode = prnode\n",
    "            \n",
    "        c = None\n",
    "        \n",
    "        if dnode._left:\n",
    "            c = dnode._left\n",
    "        else:\n",
    "            c = dnode._right\n",
    "                \n",
    "        if dnode == self._root:\n",
    "            self._root = None\n",
    "        else:\n",
    "            if dnode == pdnode._left:\n",
    "                pdnode._left = c\n",
    "            else:\n",
    "                pdnode._right = c\n",
    "        \n",
    "        self.isbalanced(self._root)\n",
    "        \n",
    "    def height(self,troot):\n",
    "        if troot:\n",
    "            x = self.height(troot._left)\n",
    "            y = self.height(troot._right)\n",
    "            if x > y:\n",
    "                return x + 1\n",
    "            else:\n",
    "                return y + 1\n",
    "        return 0\n",
    "        \n",
    "    def isbalanced(self,troot):\n",
    "        hleft = 0\n",
    "        hright = 0\n",
    "        if troot._left:\n",
    "            hleft =  self.height(troot._left)\n",
    "        \n",
    "        if troot._right:\n",
    "            hright = self.height(troot._right)\n",
    "            \n",
    "        bval = hleft - hright\n",
    "        \n",
    "        if bval in [-1,0,1]:\n",
    "            pass\n",
    "        else:\n",
    "            self._rotation()\n",
    "        \n",
    "        \n",
    "    def rotation(self,troot):\n",
    "        pass\n",
    "    \n",
    "    def inorder(self,troot):\n",
    "        if troot:\n",
    "            self.inorder(troot._left)\n",
    "            print(troot._element,end=' ')\n",
    "            self.inorder(troot._right)"
   ]
  },
  {
   "cell_type": "code",
   "execution_count": 40,
   "metadata": {},
   "outputs": [
    {
     "name": "stdout",
     "output_type": "stream",
     "text": [
      "Hi\n",
      "Hi\n",
      "Hi\n",
      "Hi\n",
      "Hi\n"
     ]
    }
   ],
   "source": [
    "B = BinarySearchTree()\n",
    "\n",
    "B.insert(B._root,50)\n",
    "B.insert(B._root,40)\n",
    "B.insert(B._root,60)\n",
    "B.insert(B._root,70)\n",
    "B.insert(B._root,55)"
   ]
  },
  {
   "cell_type": "code",
   "execution_count": null,
   "metadata": {},
   "outputs": [],
   "source": []
  }
 ],
 "metadata": {
  "kernelspec": {
   "display_name": "Python 3",
   "language": "python",
   "name": "python3"
  },
  "language_info": {
   "codemirror_mode": {
    "name": "ipython",
    "version": 3
   },
   "file_extension": ".py",
   "mimetype": "text/x-python",
   "name": "python",
   "nbconvert_exporter": "python",
   "pygments_lexer": "ipython3",
   "version": "3.8.5"
  }
 },
 "nbformat": 4,
 "nbformat_minor": 4
}
